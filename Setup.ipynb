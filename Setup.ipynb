{
 "cells": [
  {
   "cell_type": "code",
   "execution_count": 24,
   "id": "93260722-a41e-4a6d-86b5-6122bc12b6fb",
   "metadata": {},
   "outputs": [],
   "source": [
    "import boto3\n",
    "import larry as lry\n",
    "import pandas as pd\n",
    "import numpy as np"
   ]
  },
  {
   "cell_type": "markdown",
   "id": "faeafcbe-38b6-42a3-901a-b2a8e9d20a02",
   "metadata": {},
   "source": [
    "# Data prep\n",
    "We'll read the data in from Excel, format it, and then group the ASINs by query string. The generated data structure will be our input to Ground Truth."
   ]
  },
  {
   "cell_type": "code",
   "execution_count": 45,
   "id": "91d2c602-bee7-4804-abac-aabcf3f48fd5",
   "metadata": {},
   "outputs": [
    {
     "name": "stdout",
     "output_type": "stream",
     "text": [
      "Found 500 records\n"
     ]
    },
    {
     "data": {
      "text/plain": [
       "{'asin': 'B07SX5RM12',\n",
       " 'detail_page_url': 'https://www.amazon.com/dp/B07SX5RM12',\n",
       " 'image': 'https://m.media-amazon.com/images/I/71P8X7JIc-L._AC_UY879_.jpg',\n",
       " 'query_string': 'guess jacket men',\n",
       " 'search_alias': 'aps',\n",
       " 'search_on_google_url': 'https://www.google.com/search?q=guess+jacket+men',\n",
       " 'search_page_url': 'https://www.amazon.com/s?k=guess+jacket+men',\n",
       " 'title': \"GUESS Men's Wind & Water Resistant Hooded Puffer Jacket with Side Stretch Panels, Light Grey, XX-Lar\"}"
      ]
     },
     "execution_count": 45,
     "metadata": {},
     "output_type": "execute_result"
    }
   ],
   "source": [
    "df = pd.read_excel(\"Sample+for+SMGT.xls\")\n",
    "records = df.to_dict(\"records\")\n",
    "records = [{k.split(\":\")[1]: v for k, v in record.items() if k.startswith(\"INPUT\") and not (isinstance(v, float) and np.isnan(v))} for record in records]\n",
    "print(f\"Found {len(records)} records\")\n",
    "records[0]"
   ]
  },
  {
   "cell_type": "code",
   "execution_count": 47,
   "id": "873d0b40-2ced-4d89-89fb-78666d45f382",
   "metadata": {},
   "outputs": [
    {
     "name": "stdout",
     "output_type": "stream",
     "text": [
      "Consolidated into 373 queries\n"
     ]
    },
    {
     "data": {
      "text/plain": [
       "{'query': {'query_string': 'guess jacket men',\n",
       "  'search_alias': 'aps',\n",
       "  'search_on_google_url': 'https://www.google.com/search?q=guess+jacket+men',\n",
       "  'search_page_url': 'https://www.amazon.com/s?k=guess+jacket+men',\n",
       "  'marketplace': 'amazon.com'},\n",
       " 'ASINs': [{'asin': 'B07SX5RM12',\n",
       "   'detail_page_url': 'https://www.amazon.com/dp/B07SX5RM12',\n",
       "   'image': 'https://m.media-amazon.com/images/I/71P8X7JIc-L._AC_UY879_.jpg',\n",
       "   'title': \"GUESS Men's Wind & Water Resistant Hooded Puffer Jacket with Side Stretch Panels, Light Grey, XX-Lar\"},\n",
       "  {'asin': 'B07SW1D6HX',\n",
       "   'detail_page_url': 'https://www.amazon.com/dp/B07SW1D6HX',\n",
       "   'image': 'https://m.media-amazon.com/images/I/411Sli+HdhL.jpg',\n",
       "   'title': \"GUESS Men's Color Block Hooded Puffer Jacket, Navy, Medium\"},\n",
       "  {'asin': 'B08KRNDL3P',\n",
       "   'detail_page_url': 'https://www.amazon.com/dp/B08KRNDL3P',\n",
       "   'image': 'https://m.media-amazon.com/images/I/71JJtROtlBL._AC_UY679_.jpg',\n",
       "   'title': \"GUESS Men's Arctic Puffer Jacket, Reflective Prism, X-Large\"}]}"
      ]
     },
     "execution_count": 47,
     "metadata": {},
     "output_type": "execute_result"
    }
   ],
   "source": [
    "queries = {}\n",
    "for record in records:\n",
    "    qs = record[\"query_string\"]\n",
    "    asin = {k: v for k, v in record.items() if k not in [\"query_string\", \"search_alias\", \"search_on_google_url\", \"search_page_url\"]}\n",
    "    if qs in queries:\n",
    "        queries[qs][\"ASINs\"].append(asin)\n",
    "    else:\n",
    "        query = {k: v for k, v in record.items() if k in [\"query_string\", \"search_alias\", \"search_on_google_url\", \"search_page_url\"]}\n",
    "        query[\"marketplace\"] = \"amazon.com\"\n",
    "        queries[qs] = {\n",
    "            \"query\": query,\n",
    "            \"ASINs\": [asin]\n",
    "        }\n",
    "queries = list(queries.values())\n",
    "print(f\"Consolidated into {len(queries)} queries\")\n",
    "queries[0]"
   ]
  },
  {
   "cell_type": "code",
   "execution_count": null,
   "id": "76df85dc-75e8-418a-b4ed-8f87f6d31546",
   "metadata": {},
   "outputs": [],
   "source": []
  }
 ],
 "metadata": {
  "kernelspec": {
   "display_name": "Python 3 (ipykernel)",
   "language": "python",
   "name": "python3"
  },
  "language_info": {
   "codemirror_mode": {
    "name": "ipython",
    "version": 3
   },
   "file_extension": ".py",
   "mimetype": "text/x-python",
   "name": "python",
   "nbconvert_exporter": "python",
   "pygments_lexer": "ipython3",
   "version": "3.9.7"
  }
 },
 "nbformat": 4,
 "nbformat_minor": 5
}
